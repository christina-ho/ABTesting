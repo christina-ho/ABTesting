{
 "cells": [
  {
   "cell_type": "code",
   "execution_count": null,
   "metadata": {},
   "outputs": [],
   "source": [
    "##### Dieroll Problem --\n",
    "# Model the likelihood\n",
    "# I(true) = 1, I(false) =0\n",
    "# Dirichlet Prior \n",
    "# Likelihood and Prior = Posterior\n"
   ]
  },
  {
   "cell_type": "code",
   "execution_count": null,
   "metadata": {},
   "outputs": [],
   "source": [
    "##### Gaussian Problem --\n",
    "# Likelihood is gaussian - a real number\n",
    "# Guassian has 2 parameters: mean and variance\n",
    "# put prior on mean and assume variance is fixed\n",
    "# use precision instead of variance\n",
    "# precision is inverse variance (easier to work with)\n",
    "\n",
    "# getting probability for posterior\n",
    "# drop constants\n",
    "# When N is large will converge to sample mean"
   ]
  },
  {
   "cell_type": "code",
   "execution_count": null,
   "metadata": {},
   "outputs": [],
   "source": [
    "##### Implementation exercise\n",
    "# Use Gaussian likelihood with conjugate prior to do Thompson sampling in code\n",
    "class Bandit:\n",
    "    def pull(): # give reward\n",
    "    def update(x): # update model (is now Gaussian)\n",
    "# code should identify source of 'best' reward"
   ]
  }
 ],
 "metadata": {
  "kernelspec": {
   "display_name": "Python 3",
   "language": "python",
   "name": "python3"
  },
  "language_info": {
   "codemirror_mode": {
    "name": "ipython",
    "version": 3
   },
   "file_extension": ".py",
   "mimetype": "text/x-python",
   "name": "python",
   "nbconvert_exporter": "python",
   "pygments_lexer": "ipython3",
   "version": "3.7.3"
  }
 },
 "nbformat": 4,
 "nbformat_minor": 2
}
